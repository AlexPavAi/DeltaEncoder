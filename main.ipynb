{
 "cells": [
  {
   "cell_type": "code",
   "execution_count": 16,
   "metadata": {
    "code_folding": []
   },
   "outputs": [],
   "source": [
    "import pickle\n",
    "from deltaencoder import DeltaEncoder"
   ]
  },
  {
   "cell_type": "markdown",
   "metadata": {},
   "source": [
    "## Load data"
   ]
  },
  {
   "cell_type": "code",
   "execution_count": 17,
   "metadata": {},
   "outputs": [],
   "source": [
    "features_train, labels_train, features_test, labels_test, episodes_1shot, episodes_5shot = pickle.load(open('data/mIN.pkl','rb'))\n",
    "\n",
    "# features_train/features_test are features extracted from some backbone (resnet18); they are np array with size = (N,D), where N is the number of samples and D the features dimensions\n",
    "# labels_train/labels_test are one hot GT labels with size = (N,C), where C is the number of classes (can be different for train and test sets\n",
    "# episodes_*shot are supplied for reproduction of the paper results size=(num_episodes, num_classes, num_shots, D) \n"
   ]
  },
  {
   "cell_type": "markdown",
   "metadata": {},
   "source": [
    "## 1-shot experiment"
   ]
  },
  {
   "cell_type": "code",
   "execution_count": 18,
   "metadata": {},
   "outputs": [
    {
     "name": "stdout",
     "output_type": "stream",
     "text": [
      "Unseen classes accuracy without training: 26.05\n",
      "-----\n",
      "epoch 1: Higher unseen classes accuracy reached: 42.88 (Saved in model_weights/mIN_1_shot_42.88_acc.npy)\n",
      "-----\n",
      "epoch 2: Higher unseen classes accuracy reached: 52.6866666667 (Saved in model_weights/mIN_1_shot_52.69_acc.npy)\n",
      "-----\n",
      "epoch 3: Higher unseen classes accuracy reached: 57.1933333333 (Saved in model_weights/mIN_1_shot_57.19_acc.npy)\n",
      "-----\n",
      "epoch 4: Higher unseen classes accuracy reached: 60.1 (Saved in model_weights/mIN_1_shot_60.1_acc.npy)\n",
      "-----\n",
      "epoch 5: Higher unseen classes accuracy reached: 60.3733333333 (Saved in model_weights/mIN_1_shot_60.37_acc.npy)\n",
      "-----\n",
      "epoch 6: Higher unseen classes accuracy reached: 61.0033333333 (Saved in model_weights/mIN_1_shot_61.0_acc.npy)\n",
      "-----\n"
     ]
    },
    {
     "data": {
      "text/plain": [
       "61.00333333333332"
      ]
     },
     "execution_count": 18,
     "metadata": {},
     "output_type": "execute_result"
    }
   ],
   "source": [
    "args = {'data_set' : 'mIN',\n",
    "        'num_shots' : 1,\n",
    "        'num_epoch': 6,\n",
    "        'nb_val_loop': 10,\n",
    "        'learning_rate': 1e-5, \n",
    "        'drop_out_rate': 0.5,\n",
    "        'drop_out_rate_input': 0.0,\n",
    "        'batch_size': 128,\n",
    "        'noise_size' : 16,\n",
    "        'nb_img' : 1024,\n",
    "        'num_ways' : 5,\n",
    "        'encoder_size' : [8192],\n",
    "        'decoder_size' : [8192],\n",
    "        'opt_type': 'adam'\n",
    "       }\n",
    "\n",
    "model = DeltaEncoder(args, features_train, labels_train, features_test, labels_test, episodes_1shot)\n",
    "model.train(verbose=False)\n"
   ]
  },
  {
   "cell_type": "markdown",
   "metadata": {},
   "source": [
    "## 5-shot experiment"
   ]
  },
  {
   "cell_type": "code",
   "execution_count": 19,
   "metadata": {},
   "outputs": [
    {
     "name": "stdout",
     "output_type": "stream",
     "text": [
      "Unseen classes accuracy without training: 32.1866666667\n",
      "-----\n",
      "epoch 1: Higher unseen classes accuracy reached: 44.6066666667 (Saved in model_weights/mIN_5_shot_44.61_acc.npy)\n",
      "-----\n",
      "epoch 2: Higher unseen classes accuracy reached: 58.2233333333 (Saved in model_weights/mIN_5_shot_58.22_acc.npy)\n",
      "-----\n",
      "epoch 3: Higher unseen classes accuracy reached: 59.7066666667 (Saved in model_weights/mIN_5_shot_59.71_acc.npy)\n",
      "-----\n",
      "epoch 4: Higher unseen classes accuracy reached: 63.32 (Saved in model_weights/mIN_5_shot_63.32_acc.npy)\n",
      "-----\n",
      "epoch 5: Higher unseen classes accuracy reached: 65.37 (Saved in model_weights/mIN_5_shot_65.37_acc.npy)\n",
      "-----\n",
      "epoch 6: Higher unseen classes accuracy reached: 67.3566666667 (Saved in model_weights/mIN_5_shot_67.36_acc.npy)\n",
      "-----\n",
      "epoch 7: Higher unseen classes accuracy reached: 68.0566666667 (Saved in model_weights/mIN_5_shot_68.06_acc.npy)\n",
      "-----\n",
      "epoch 8: Higher unseen classes accuracy reached: 68.1633333333 (Saved in model_weights/mIN_5_shot_68.16_acc.npy)\n",
      "-----\n",
      "epoch 9: Lower unseen classes accuracy reached: 63.39 (<=68.1633333333)\n",
      "-----\n",
      "epoch 10: Lower unseen classes accuracy reached: 66.8933333333 (<=68.1633333333)\n",
      "-----\n",
      "epoch 11: Lower unseen classes accuracy reached: 65.6133333333 (<=68.1633333333)\n",
      "-----\n",
      "epoch 12: Higher unseen classes accuracy reached: 68.2266666667 (Saved in model_weights/mIN_5_shot_68.23_acc.npy)\n",
      "-----\n"
     ]
    },
    {
     "data": {
      "text/plain": [
       "68.22666666666667"
      ]
     },
     "execution_count": 19,
     "metadata": {},
     "output_type": "execute_result"
    }
   ],
   "source": [
    "args = {'data_set' : 'mIN',\n",
    "        'num_shots' : 5,\n",
    "        'num_epoch': 12,\n",
    "        'nb_val_loop': 10,\n",
    "        'learning_rate': 1e-5, \n",
    "        'drop_out_rate': 0.5,\n",
    "        'drop_out_rate_input': 0.0,\n",
    "        'batch_size': 128,\n",
    "        'noise_size' : 16,\n",
    "        'nb_img' : 1024,\n",
    "        'num_ways' : 5,\n",
    "        'encoder_size' : [8192],\n",
    "        'decoder_size' : [8192],\n",
    "        'opt_type': 'adam'\n",
    "       }\n",
    "\n",
    "model = DeltaEncoder(args, features_train, labels_train, features_test, labels_test, episodes_5shot)\n",
    "model.train(verbose=False)"
   ]
  }
 ],
 "metadata": {
  "kernelspec": {
   "display_name": "Python 2",
   "language": "python",
   "name": "python2"
  },
  "language_info": {
   "codemirror_mode": {
    "name": "ipython",
    "version": 2
   },
   "file_extension": ".py",
   "mimetype": "text/x-python",
   "name": "python",
   "nbconvert_exporter": "python",
   "pygments_lexer": "ipython2",
   "version": "2.7.15"
  }
 },
 "nbformat": 4,
 "nbformat_minor": 2
}
